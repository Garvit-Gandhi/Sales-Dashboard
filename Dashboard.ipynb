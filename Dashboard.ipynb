{
 "cells": [
  {
   "cell_type": "markdown",
   "id": "4d774807",
   "metadata": {},
   "source": [
    "# Import Required Libraries"
   ]
  },
  {
   "cell_type": "code",
   "execution_count": 1,
   "id": "64ae2496",
   "metadata": {},
   "outputs": [],
   "source": [
    "import pandas as pd\n",
    "import numpy as np\n",
    "import plotly.express as px\n",
    "from dash import Dash, html, dcc, dash_table\n",
    "from jupyter_dash import JupyterDash\n",
    "from dash.dependencies import Input, Output"
   ]
  },
  {
   "cell_type": "markdown",
   "id": "3101f727",
   "metadata": {},
   "source": [
    "# Load The Data"
   ]
  },
  {
   "cell_type": "code",
   "execution_count": 2,
   "id": "aa4058ef",
   "metadata": {},
   "outputs": [],
   "source": [
    "data = pd.read_csv('sales data.csv')"
   ]
  },
  {
   "cell_type": "code",
   "execution_count": 3,
   "id": "1f761c9b",
   "metadata": {},
   "outputs": [
    {
     "data": {
      "text/html": [
       "<div>\n",
       "<style scoped>\n",
       "    .dataframe tbody tr th:only-of-type {\n",
       "        vertical-align: middle;\n",
       "    }\n",
       "\n",
       "    .dataframe tbody tr th {\n",
       "        vertical-align: top;\n",
       "    }\n",
       "\n",
       "    .dataframe thead th {\n",
       "        text-align: right;\n",
       "    }\n",
       "</style>\n",
       "<table border=\"1\" class=\"dataframe\">\n",
       "  <thead>\n",
       "    <tr style=\"text-align: right;\">\n",
       "      <th></th>\n",
       "      <th>Invoice ID</th>\n",
       "      <th>Branch</th>\n",
       "      <th>City</th>\n",
       "      <th>Customer type</th>\n",
       "      <th>Gender</th>\n",
       "      <th>Product line</th>\n",
       "      <th>Unit price</th>\n",
       "      <th>Quantity</th>\n",
       "      <th>Tax 5%</th>\n",
       "      <th>Total</th>\n",
       "      <th>Date</th>\n",
       "      <th>Time</th>\n",
       "      <th>Payment</th>\n",
       "      <th>cogs</th>\n",
       "      <th>gross margin percentage</th>\n",
       "      <th>gross income</th>\n",
       "      <th>Rating</th>\n",
       "    </tr>\n",
       "  </thead>\n",
       "  <tbody>\n",
       "    <tr>\n",
       "      <th>0</th>\n",
       "      <td>750-67-8428</td>\n",
       "      <td>A</td>\n",
       "      <td>Yangon</td>\n",
       "      <td>Member</td>\n",
       "      <td>Female</td>\n",
       "      <td>Health and beauty</td>\n",
       "      <td>74.69</td>\n",
       "      <td>7</td>\n",
       "      <td>26.1415</td>\n",
       "      <td>548.9715</td>\n",
       "      <td>1/5/2019</td>\n",
       "      <td>13:08</td>\n",
       "      <td>Ewallet</td>\n",
       "      <td>522.83</td>\n",
       "      <td>4.761905</td>\n",
       "      <td>26.1415</td>\n",
       "      <td>9.1</td>\n",
       "    </tr>\n",
       "    <tr>\n",
       "      <th>1</th>\n",
       "      <td>226-31-3081</td>\n",
       "      <td>C</td>\n",
       "      <td>Naypyitaw</td>\n",
       "      <td>Normal</td>\n",
       "      <td>Female</td>\n",
       "      <td>Electronic accessories</td>\n",
       "      <td>15.28</td>\n",
       "      <td>5</td>\n",
       "      <td>3.8200</td>\n",
       "      <td>80.2200</td>\n",
       "      <td>3/8/2019</td>\n",
       "      <td>10:29</td>\n",
       "      <td>Cash</td>\n",
       "      <td>76.40</td>\n",
       "      <td>4.761905</td>\n",
       "      <td>3.8200</td>\n",
       "      <td>9.6</td>\n",
       "    </tr>\n",
       "    <tr>\n",
       "      <th>2</th>\n",
       "      <td>631-41-3108</td>\n",
       "      <td>A</td>\n",
       "      <td>Yangon</td>\n",
       "      <td>Normal</td>\n",
       "      <td>Male</td>\n",
       "      <td>Home and lifestyle</td>\n",
       "      <td>46.33</td>\n",
       "      <td>7</td>\n",
       "      <td>16.2155</td>\n",
       "      <td>340.5255</td>\n",
       "      <td>3/3/2019</td>\n",
       "      <td>13:23</td>\n",
       "      <td>Credit card</td>\n",
       "      <td>324.31</td>\n",
       "      <td>4.761905</td>\n",
       "      <td>16.2155</td>\n",
       "      <td>7.4</td>\n",
       "    </tr>\n",
       "    <tr>\n",
       "      <th>3</th>\n",
       "      <td>123-19-1176</td>\n",
       "      <td>A</td>\n",
       "      <td>Yangon</td>\n",
       "      <td>Member</td>\n",
       "      <td>Male</td>\n",
       "      <td>Health and beauty</td>\n",
       "      <td>58.22</td>\n",
       "      <td>8</td>\n",
       "      <td>23.2880</td>\n",
       "      <td>489.0480</td>\n",
       "      <td>1/27/2019</td>\n",
       "      <td>20:33</td>\n",
       "      <td>Ewallet</td>\n",
       "      <td>465.76</td>\n",
       "      <td>4.761905</td>\n",
       "      <td>23.2880</td>\n",
       "      <td>8.4</td>\n",
       "    </tr>\n",
       "    <tr>\n",
       "      <th>4</th>\n",
       "      <td>373-73-7910</td>\n",
       "      <td>A</td>\n",
       "      <td>Yangon</td>\n",
       "      <td>Normal</td>\n",
       "      <td>Male</td>\n",
       "      <td>Sports and travel</td>\n",
       "      <td>86.31</td>\n",
       "      <td>7</td>\n",
       "      <td>30.2085</td>\n",
       "      <td>634.3785</td>\n",
       "      <td>2/8/2019</td>\n",
       "      <td>10:37</td>\n",
       "      <td>Ewallet</td>\n",
       "      <td>604.17</td>\n",
       "      <td>4.761905</td>\n",
       "      <td>30.2085</td>\n",
       "      <td>5.3</td>\n",
       "    </tr>\n",
       "  </tbody>\n",
       "</table>\n",
       "</div>"
      ],
      "text/plain": [
       "    Invoice ID Branch       City Customer type  Gender  \\\n",
       "0  750-67-8428      A     Yangon        Member  Female   \n",
       "1  226-31-3081      C  Naypyitaw        Normal  Female   \n",
       "2  631-41-3108      A     Yangon        Normal    Male   \n",
       "3  123-19-1176      A     Yangon        Member    Male   \n",
       "4  373-73-7910      A     Yangon        Normal    Male   \n",
       "\n",
       "             Product line  Unit price  Quantity   Tax 5%     Total       Date  \\\n",
       "0       Health and beauty       74.69         7  26.1415  548.9715   1/5/2019   \n",
       "1  Electronic accessories       15.28         5   3.8200   80.2200   3/8/2019   \n",
       "2      Home and lifestyle       46.33         7  16.2155  340.5255   3/3/2019   \n",
       "3       Health and beauty       58.22         8  23.2880  489.0480  1/27/2019   \n",
       "4       Sports and travel       86.31         7  30.2085  634.3785   2/8/2019   \n",
       "\n",
       "    Time      Payment    cogs  gross margin percentage  gross income  Rating  \n",
       "0  13:08      Ewallet  522.83                 4.761905       26.1415     9.1  \n",
       "1  10:29         Cash   76.40                 4.761905        3.8200     9.6  \n",
       "2  13:23  Credit card  324.31                 4.761905       16.2155     7.4  \n",
       "3  20:33      Ewallet  465.76                 4.761905       23.2880     8.4  \n",
       "4  10:37      Ewallet  604.17                 4.761905       30.2085     5.3  "
      ]
     },
     "execution_count": 3,
     "metadata": {},
     "output_type": "execute_result"
    }
   ],
   "source": [
    "data.head()"
   ]
  },
  {
   "cell_type": "markdown",
   "id": "3a1e75ef",
   "metadata": {},
   "source": [
    "# Create the Layout of the app"
   ]
  },
  {
   "cell_type": "code",
   "execution_count": 4,
   "id": "96ceb688",
   "metadata": {},
   "outputs": [],
   "source": [
    "branches = data.Branch.unique()\n",
    "branches.sort()\n",
    "filter_options = []\n",
    "options=[]\n",
    "for i in branches:\n",
    "    option = {'label': i, 'value': i}\n",
    "    filter_options.append(option)\n",
    "    options.append(i)"
   ]
  },
  {
   "cell_type": "code",
   "execution_count": 5,
   "id": "b06a53de",
   "metadata": {},
   "outputs": [
    {
     "name": "stderr",
     "output_type": "stream",
     "text": [
      "D:\\anaconda\\Lib\\site-packages\\dash\\dash.py:538: UserWarning:\n",
      "\n",
      "JupyterDash is deprecated, use Dash instead.\n",
      "See https://dash.plotly.com/dash-in-jupyter for more details.\n",
      "\n"
     ]
    }
   ],
   "source": [
    "app = JupyterDash()\n",
    "app.layout = html.Div([\n",
    "    html.Div([\n",
    "            html.Label('Select Branch'),\n",
    "            dcc.Dropdown(filter_options, 'A', clearable = False , id = 'input')],\n",
    "            style = {'display': 'inline-block', 'width': '200px', 'margin': '10px', 'vertical-align': 'top'}),\n",
    "    \n",
    "    html.Div([\n",
    "        dcc.Graph(style = {'display': 'inline-block', 'width': '680px', 'height': '500px', 'margin': '20px'},\n",
    "                  id = 'product_line_bp_1'),\n",
    "        dcc.Graph(style = {'display': 'inline-block', 'width': '680px', 'height': '500px', 'margin': '20px 20px 20px 80px'},\n",
    "                  id = 'gender_bp_1')\n",
    "    ]),\n",
    "    \n",
    "    html.Div([\n",
    "        dcc.Graph(style = {'display': 'inline-block', 'width': '1460px', 'margin': '20px'}, id = 'time_lp')\n",
    "    ]),\n",
    "    \n",
    "    html.Div([\n",
    "        dcc.Graph(style = {'display': 'inline-block', 'width': '680px', 'height': '500px', 'margin': '20px'},\n",
    "                  id = 'product_line_bp_2'),\n",
    "        dcc.Graph(style = {'display': 'inline-block', 'width': '680px', 'height': '500px', 'margin': '20px 20px 20px 80px'},\n",
    "                  id = 'gender_bp_2')\n",
    "    ]),\n",
    "])"
   ]
  },
  {
   "cell_type": "markdown",
   "id": "74d69523",
   "metadata": {},
   "source": [
    "# Graph showing 'COGS in each category'"
   ]
  },
  {
   "cell_type": "code",
   "execution_count": 6,
   "id": "443a6aa5",
   "metadata": {
    "scrolled": true
   },
   "outputs": [],
   "source": [
    "@app.callback(\n",
    "        Output(component_id = 'product_line_bp_1', component_property = 'figure'),\n",
    "        Input(component_id = 'input', component_property = 'value')\n",
    "    )\n",
    "def product_line_bp_1(branch_input = 'A'):\n",
    "    bp_1_data = data[data.Branch == branch_input].groupby('Product line').sum('cogs').reset_index()\n",
    "    bp_1 = px.bar(bp_1_data, x = 'Product line', y = 'cogs', color = 'Product line', labels = {'cogs': 'Cost of goods sold'},\n",
    "                 title = 'COGS in each category')\n",
    "    bp_1.update_xaxes(linecolor = 'black')\n",
    "    bp_1.update_yaxes(linecolor = 'black')\n",
    "    bp_1.update_layout(plot_bgcolor = '#FFFFFF')\n",
    "    return bp_1"
   ]
  },
  {
   "cell_type": "markdown",
   "id": "32f8c7b6",
   "metadata": {},
   "source": [
    "# Graph showing 'COGS to each gender'"
   ]
  },
  {
   "cell_type": "code",
   "execution_count": 7,
   "id": "51157f2f",
   "metadata": {},
   "outputs": [],
   "source": [
    "@app.callback(\n",
    "        Output(component_id = 'gender_bp_1', component_property = 'figure'),\n",
    "        Input(component_id = 'input', component_property = 'value')\n",
    "    )\n",
    "def gender_bp_1(branch_input):\n",
    "    if len(branch_input) == 0:\n",
    "        branch_input = 'A'\n",
    "    bp_2_data = data[data.Branch == branch_input].groupby('Gender').sum('cogs').reset_index()\n",
    "    bp_2 = px.bar(bp_2_data, x = 'Gender', y = 'cogs', color = 'Gender', labels = {'cogs': 'Cost of goods sold'},\n",
    "                  title = 'COGS to each Gender')\n",
    "    bp_2.update_xaxes(linecolor = 'black')\n",
    "    bp_2.update_yaxes(linecolor = 'black')\n",
    "    bp_2.update_layout(plot_bgcolor = '#FFFFFF')\n",
    "    return bp_2"
   ]
  },
  {
   "cell_type": "markdown",
   "id": "5c6b34f5",
   "metadata": {},
   "source": [
    "# Graph showing 'Number of customers in the store based on time of day'"
   ]
  },
  {
   "cell_type": "code",
   "execution_count": 8,
   "id": "91ee8aff",
   "metadata": {},
   "outputs": [],
   "source": [
    "@app.callback(\n",
    "        Output(component_id = 'time_lp', component_property = 'figure'),\n",
    "        Input(component_id = 'input', component_property = 'value')\n",
    "    )\n",
    "def time_lp(branch_input = 'A'):\n",
    "    lp_1_data = pd.DataFrame(data[data.Branch == branch_input].Time.value_counts())\n",
    "    lp_1_data.reset_index(inplace = True)\n",
    "    lp_1_data.columns = ['Time', 'Number of Customers']\n",
    "    lp_1_data.Time = lp_1_data.Time.astype('datetime64[ns]')\n",
    "    lp_1_data = lp_1_data.resample('H', on = 'Time')['Number of Customers'].sum()\n",
    "    lp_1_data = pd.DataFrame(lp_1_data)\n",
    "    lp_1_data.reset_index(inplace = True)\n",
    "    lp_1_data.Time = lp_1_data.Time.dt.hour\n",
    "    lp_1 = px.line(lp_1_data, x = 'Time', y = 'Number of Customers',\n",
    "                   labels = {'Time': 'Hour of day'},\n",
    "                   title = 'Number of Customers in the store based on time of day')\n",
    "    lp_1.update_xaxes(range = [9.5, 20.5], linecolor = 'Black', ticks = 'inside', tickcolor = 'black')\n",
    "    lp_1.update_yaxes(linecolor = 'black', ticks = 'inside', tickcolor = 'black')\n",
    "    lp_1.update_layout(plot_bgcolor = '#FFFFFF')\n",
    "    return lp_1\n"
   ]
  },
  {
   "cell_type": "markdown",
   "id": "4a4e5abd",
   "metadata": {},
   "source": [
    "# Graph Showing 'Number of items sold in each category'"
   ]
  },
  {
   "cell_type": "code",
   "execution_count": 9,
   "id": "5dd22223",
   "metadata": {},
   "outputs": [],
   "source": [
    "@app.callback(\n",
    "        Output(component_id = 'product_line_bp_2', component_property = 'figure'),\n",
    "        Input(component_id = 'input', component_property = 'value')\n",
    "    )\n",
    "def product_line_bp(branch_input = 'A'):\n",
    "    bp_3_data = data[data.Branch == branch_input].groupby('Product line').sum('Quantity').reset_index()\n",
    "    bp_3 = px.bar(bp_3_data, x = 'Product line', y = 'Quantity', color = 'Product line',\n",
    "                 labels = {'Quantity': 'Number of items sold'}, title = 'Number of items sold in each category')\n",
    "    bp_3.update_xaxes(linecolor = 'black')\n",
    "    bp_3.update_yaxes(linecolor = 'black')\n",
    "    bp_3.update_layout(plot_bgcolor = '#FFFFFF')\n",
    "    return bp_3"
   ]
  },
  {
   "cell_type": "markdown",
   "id": "8c571fe7",
   "metadata": {},
   "source": [
    "# Graph showing 'Number of customers based on gender'"
   ]
  },
  {
   "cell_type": "code",
   "execution_count": 10,
   "id": "7a39a0cb",
   "metadata": {},
   "outputs": [],
   "source": [
    "@app.callback(\n",
    "        Output(component_id = 'gender_bp_2', component_property = 'figure'),\n",
    "        Input(component_id = 'input', component_property = 'value')\n",
    "    )\n",
    "def gender_bp_2(branch_input = 'A'):\n",
    "    bp_4_data = pd.DataFrame(data[data.Branch == branch_input].Gender.value_counts())\n",
    "    bp_4_data.reset_index(inplace = True)\n",
    "    bp_4_data.columns = ['Gender', 'Number of customers']\n",
    "    bp_4 = px.bar(bp_4_data, x = 'Gender', y = 'Number of customers', color = 'Gender', labels = {'cogs': 'Cost of goods sold'},\n",
    "                  title = 'Number of customers based on gender')\n",
    "    bp_4.update_xaxes(linecolor = 'black')\n",
    "    bp_4.update_yaxes(linecolor = 'black')\n",
    "    bp_4.update_layout(plot_bgcolor = '#FFFFFF')\n",
    "    return bp_4"
   ]
  },
  {
   "cell_type": "markdown",
   "id": "2e98592a",
   "metadata": {},
   "source": [
    "# Launch the app"
   ]
  },
  {
   "cell_type": "code",
   "execution_count": 11,
   "id": "6bcf636d",
   "metadata": {},
   "outputs": [
    {
     "name": "stdout",
     "output_type": "stream",
     "text": [
      "Dash app running on http://127.0.0.1:8050/\n"
     ]
    },
    {
     "data": {
      "text/html": [
       "\n",
       "        <iframe\n",
       "            width=\"100%\"\n",
       "            height=\"650\"\n",
       "            src=\"http://127.0.0.1:8050/\"\n",
       "            frameborder=\"0\"\n",
       "            allowfullscreen\n",
       "            \n",
       "        ></iframe>\n",
       "        "
      ],
      "text/plain": [
       "<IPython.lib.display.IFrame at 0x2752bdf7750>"
      ]
     },
     "metadata": {},
     "output_type": "display_data"
    },
    {
     "name": "stderr",
     "output_type": "stream",
     "text": [
      "C:\\Users\\dell\\AppData\\Local\\Temp\\ipykernel_15064\\3433510272.py:9: UserWarning:\n",
      "\n",
      "Could not infer format, so each element will be parsed individually, falling back to `dateutil`. To ensure parsing is consistent and as-expected, please specify a format.\n",
      "\n",
      "C:\\Users\\dell\\AppData\\Local\\Temp\\ipykernel_15064\\3433510272.py:9: UserWarning:\n",
      "\n",
      "Could not infer format, so each element will be parsed individually, falling back to `dateutil`. To ensure parsing is consistent and as-expected, please specify a format.\n",
      "\n",
      "C:\\Users\\dell\\AppData\\Local\\Temp\\ipykernel_15064\\3433510272.py:9: UserWarning:\n",
      "\n",
      "Could not infer format, so each element will be parsed individually, falling back to `dateutil`. To ensure parsing is consistent and as-expected, please specify a format.\n",
      "\n",
      "C:\\Users\\dell\\AppData\\Local\\Temp\\ipykernel_15064\\3433510272.py:9: UserWarning:\n",
      "\n",
      "Could not infer format, so each element will be parsed individually, falling back to `dateutil`. To ensure parsing is consistent and as-expected, please specify a format.\n",
      "\n"
     ]
    }
   ],
   "source": [
    "app.run_server()"
   ]
  }
 ],
 "metadata": {
  "kernelspec": {
   "display_name": "Python 3 (ipykernel)",
   "language": "python",
   "name": "python3"
  },
  "language_info": {
   "codemirror_mode": {
    "name": "ipython",
    "version": 3
   },
   "file_extension": ".py",
   "mimetype": "text/x-python",
   "name": "python",
   "nbconvert_exporter": "python",
   "pygments_lexer": "ipython3",
   "version": "3.11.5"
  }
 },
 "nbformat": 4,
 "nbformat_minor": 5
}
